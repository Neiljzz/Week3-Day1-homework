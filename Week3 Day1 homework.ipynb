{
 "cells": [
  {
   "cell_type": "markdown",
   "id": "a3cfb9f1",
   "metadata": {},
   "source": [
    "# EXERCISE"
   ]
  },
  {
   "cell_type": "markdown",
   "id": "b76a8c44",
   "metadata": {},
   "source": [
    "## Exercise 1 - Turn the shopping cart program into an object-oriented program"
   ]
  },
  {
   "cell_type": "code",
   "execution_count": 3,
   "id": "ee0694c4",
   "metadata": {},
   "outputs": [
    {
     "name": "stdout",
     "output_type": "stream",
     "text": [
      "Shopping Cart:Apple\n",
      "Shopping Cart:Peach\n"
     ]
    }
   ],
   "source": [
    "# Create a class called cart that retains items and has methods to add, remove, and show\n",
    "class Cart():\n",
    "\n",
    "    def __init__(self, items):\n",
    "        self.items = items\n",
    "    \n",
    "        self.shopping_cart = [\"Apple\",\"Peach\"]\n",
    "\n",
    "    def additems(self):\n",
    "        self.shopping_cart.append(self.items)\n",
    "    \n",
    "    def removeitems(self):\n",
    "        self.shopping_cart.remove(self.items)\n",
    "    \n",
    "    def showitems(self):\n",
    "    \n",
    "        for i in self.shopping_cart:    \n",
    "            print(\"Shopping Cart:\"+ str(i))\n",
    "            \n",
    "Cart(i).showitems()"
   ]
  },
  {
   "cell_type": "code",
   "execution_count": null,
   "id": "33a71681",
   "metadata": {},
   "outputs": [],
   "source": []
  },
  {
   "cell_type": "markdown",
   "id": "62b9625f",
   "metadata": {},
   "source": [
    "## Exercise 2 - Write a Python class for an Animal that has a name and energy attributes. The animal class should also have methods for eat, sleep, and play that will take in an integer and increase/decrease the energy of the animal with a formatted print statement¶"
   ]
  },
  {
   "cell_type": "code",
   "execution_count": null,
   "id": "1c930e79",
   "metadata": {},
   "outputs": [],
   "source": [
    "# Example 1\n",
    "# buddy = Animal('Buddy', 10)\n",
    "# buddy.play(5) -> \"Buddy is playing for 5 minutes. His energy is now 5\"\n",
    "# buddy.sleep(10) -> \"Buddy is sleeping for 5 minutes. His energy is now 15\""
   ]
  },
  {
   "cell_type": "code",
   "execution_count": null,
   "id": "d5e09827",
   "metadata": {},
   "outputs": [],
   "source": []
  }
 ],
 "metadata": {
  "kernelspec": {
   "display_name": "Python 3 (ipykernel)",
   "language": "python",
   "name": "python3"
  },
  "language_info": {
   "codemirror_mode": {
    "name": "ipython",
    "version": 3
   },
   "file_extension": ".py",
   "mimetype": "text/x-python",
   "name": "python",
   "nbconvert_exporter": "python",
   "pygments_lexer": "ipython3",
   "version": "3.9.13"
  }
 },
 "nbformat": 4,
 "nbformat_minor": 5
}
